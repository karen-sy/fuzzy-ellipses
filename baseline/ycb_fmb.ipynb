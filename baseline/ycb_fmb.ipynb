{
 "cells": [
  {
   "cell_type": "code",
   "execution_count": 1,
   "metadata": {},
   "outputs": [],
   "source": [
    "%load_ext autoreload\n",
    "%autoreload 2\n",
    "%matplotlib inline"
   ]
  },
  {
   "cell_type": "markdown",
   "metadata": {
    "colab_type": "text",
    "id": "qkX7DiM6rmeM"
   },
   "source": [
    "# Pose Estimation\n",
    "Compare to PyTorch3D `Camera position optimization` sample. "
   ]
  },
  {
   "cell_type": "code",
   "execution_count": 1,
   "metadata": {},
   "outputs": [],
   "source": [
    "import os\n",
    "import sys\n",
    "import pickle\n",
    "import glob\n",
    "\n",
    "import numpy as np\n",
    "import matplotlib.pyplot as plt"
   ]
  },
  {
   "cell_type": "code",
   "execution_count": 2,
   "metadata": {},
   "outputs": [],
   "source": [
    "from tqdm.notebook import tqdm"
   ]
  },
  {
   "cell_type": "code",
   "execution_count": null,
   "metadata": {},
   "outputs": [
    {
     "name": "stdout",
     "output_type": "stream",
     "text": [
      "model is 1.00x the size of the cow\n"
     ]
    }
   ],
   "source": [
    "LOAD MODEL HERE"
   ]
  },
  {
   "cell_type": "code",
   "execution_count": null,
   "metadata": {},
   "outputs": [
    {
     "ename": "ArgumentError",
     "evalue": "(\"argument 2: TypeError: No array-type handler for type _ctypes.type (value: <cparam 'P' (0x7df47548d120)>) registered\", (1, <cparam 'P' (0x7df47548d120)>))",
     "output_type": "error",
     "traceback": [
      "\u001b[0;31m---------------------------------------------------------------------------\u001b[0m",
      "\u001b[0;31mTypeError\u001b[0m                                 Traceback (most recent call last)",
      "File \u001b[0;32m/opt/conda/envs/gen3d/lib/python3.12/site-packages/OpenGL/latebind.py:41\u001b[0m, in \u001b[0;36mLateBind.__call__\u001b[0;34m(self, *args, **named)\u001b[0m\n\u001b[1;32m     40\u001b[0m \u001b[38;5;28;01mtry\u001b[39;00m:\n\u001b[0;32m---> 41\u001b[0m     \u001b[38;5;28;01mreturn\u001b[39;00m \u001b[38;5;28;43mself\u001b[39;49m\u001b[38;5;241;43m.\u001b[39;49m\u001b[43m_finalCall\u001b[49m\u001b[43m(\u001b[49m\u001b[43m \u001b[49m\u001b[38;5;241;43m*\u001b[39;49m\u001b[43margs\u001b[49m\u001b[43m,\u001b[49m\u001b[43m \u001b[49m\u001b[38;5;241;43m*\u001b[39;49m\u001b[38;5;241;43m*\u001b[39;49m\u001b[43mnamed\u001b[49m\u001b[43m \u001b[49m\u001b[43m)\u001b[49m\n\u001b[1;32m     42\u001b[0m \u001b[38;5;28;01mexcept\u001b[39;00m (\u001b[38;5;167;01mTypeError\u001b[39;00m,\u001b[38;5;167;01mAttributeError\u001b[39;00m) \u001b[38;5;28;01mas\u001b[39;00m err:\n",
      "\u001b[0;31mTypeError\u001b[0m: 'NoneType' object is not callable",
      "\nDuring handling of the above exception, another exception occurred:\n",
      "\u001b[0;31mArgumentError\u001b[0m                             Traceback (most recent call last)",
      "Cell \u001b[0;32mIn[5], line 28\u001b[0m\n\u001b[1;32m     25\u001b[0m scene\u001b[38;5;241m.\u001b[39madd(camera,pose\u001b[38;5;241m=\u001b[39mpose)\n\u001b[1;32m     27\u001b[0m r \u001b[38;5;241m=\u001b[39m pyrender\u001b[38;5;241m.\u001b[39mOffscreenRenderer(image_size[\u001b[38;5;241m1\u001b[39m],image_size[\u001b[38;5;241m0\u001b[39m])\n\u001b[0;32m---> 28\u001b[0m color, target_depth \u001b[38;5;241m=\u001b[39m \u001b[43mr\u001b[49m\u001b[38;5;241;43m.\u001b[39;49m\u001b[43mrender\u001b[49m\u001b[43m(\u001b[49m\u001b[43mscene\u001b[49m\u001b[43m)\u001b[49m\n\u001b[1;32m     29\u001b[0m target_depth[target_depth \u001b[38;5;241m==\u001b[39m\u001b[38;5;241m0\u001b[39m] \u001b[38;5;241m=\u001b[39m np\u001b[38;5;241m.\u001b[39mnan\n\u001b[1;32m     31\u001b[0m plt\u001b[38;5;241m.\u001b[39msubplot(\u001b[38;5;241m1\u001b[39m,\u001b[38;5;241m2\u001b[39m,\u001b[38;5;241m1\u001b[39m)\n",
      "File \u001b[0;32m/opt/conda/envs/gen3d/lib/python3.12/site-packages/pyrender/offscreen.py:102\u001b[0m, in \u001b[0;36mOffscreenRenderer.render\u001b[0;34m(self, scene, flags, seg_node_map)\u001b[0m\n\u001b[1;32m    100\u001b[0m \u001b[38;5;28;01mif\u001b[39;00m \u001b[38;5;28mself\u001b[39m\u001b[38;5;241m.\u001b[39m_platform\u001b[38;5;241m.\u001b[39msupports_framebuffers():\n\u001b[1;32m    101\u001b[0m     flags \u001b[38;5;241m|\u001b[39m\u001b[38;5;241m=\u001b[39m RenderFlags\u001b[38;5;241m.\u001b[39mOFFSCREEN\n\u001b[0;32m--> 102\u001b[0m     retval \u001b[38;5;241m=\u001b[39m \u001b[38;5;28;43mself\u001b[39;49m\u001b[38;5;241;43m.\u001b[39;49m\u001b[43m_renderer\u001b[49m\u001b[38;5;241;43m.\u001b[39;49m\u001b[43mrender\u001b[49m\u001b[43m(\u001b[49m\u001b[43mscene\u001b[49m\u001b[43m,\u001b[49m\u001b[43m \u001b[49m\u001b[43mflags\u001b[49m\u001b[43m,\u001b[49m\u001b[43m \u001b[49m\u001b[43mseg_node_map\u001b[49m\u001b[43m)\u001b[49m\n\u001b[1;32m    103\u001b[0m \u001b[38;5;28;01melse\u001b[39;00m:\n\u001b[1;32m    104\u001b[0m     \u001b[38;5;28mself\u001b[39m\u001b[38;5;241m.\u001b[39m_renderer\u001b[38;5;241m.\u001b[39mrender(scene, flags, seg_node_map)\n",
      "File \u001b[0;32m/opt/conda/envs/gen3d/lib/python3.12/site-packages/pyrender/renderer.py:125\u001b[0m, in \u001b[0;36mRenderer.render\u001b[0;34m(self, scene, flags, seg_node_map)\u001b[0m\n\u001b[1;32m    101\u001b[0m \u001b[38;5;250m\u001b[39m\u001b[38;5;124;03m\"\"\"Render a scene with the given set of flags.\u001b[39;00m\n\u001b[1;32m    102\u001b[0m \n\u001b[1;32m    103\u001b[0m \u001b[38;5;124;03mParameters\u001b[39;00m\n\u001b[0;32m   (...)\u001b[0m\n\u001b[1;32m    122\u001b[0m \u001b[38;5;124;03m    in linear units.\u001b[39;00m\n\u001b[1;32m    123\u001b[0m \u001b[38;5;124;03m\"\"\"\u001b[39;00m\n\u001b[1;32m    124\u001b[0m \u001b[38;5;66;03m# Update context with meshes and textures\u001b[39;00m\n\u001b[0;32m--> 125\u001b[0m \u001b[38;5;28;43mself\u001b[39;49m\u001b[38;5;241;43m.\u001b[39;49m\u001b[43m_update_context\u001b[49m\u001b[43m(\u001b[49m\u001b[43mscene\u001b[49m\u001b[43m,\u001b[49m\u001b[43m \u001b[49m\u001b[43mflags\u001b[49m\u001b[43m)\u001b[49m\n\u001b[1;32m    127\u001b[0m \u001b[38;5;66;03m# Render necessary shadow maps\u001b[39;00m\n\u001b[1;32m    128\u001b[0m \u001b[38;5;28;01mif\u001b[39;00m \u001b[38;5;129;01mnot\u001b[39;00m \u001b[38;5;28mbool\u001b[39m(flags \u001b[38;5;241m&\u001b[39m RenderFlags\u001b[38;5;241m.\u001b[39mDEPTH_ONLY \u001b[38;5;129;01mor\u001b[39;00m flags \u001b[38;5;241m&\u001b[39m RenderFlags\u001b[38;5;241m.\u001b[39mSEG):\n",
      "File \u001b[0;32m/opt/conda/envs/gen3d/lib/python3.12/site-packages/pyrender/renderer.py:755\u001b[0m, in \u001b[0;36mRenderer._update_context\u001b[0;34m(self, scene, flags)\u001b[0m\n\u001b[1;32m    753\u001b[0m \u001b[38;5;66;03m# Add new textures to context\u001b[39;00m\n\u001b[1;32m    754\u001b[0m \u001b[38;5;28;01mfor\u001b[39;00m texture \u001b[38;5;129;01min\u001b[39;00m mesh_textures \u001b[38;5;241m-\u001b[39m \u001b[38;5;28mself\u001b[39m\u001b[38;5;241m.\u001b[39m_mesh_textures:\n\u001b[0;32m--> 755\u001b[0m     \u001b[43mtexture\u001b[49m\u001b[38;5;241;43m.\u001b[39;49m\u001b[43m_add_to_context\u001b[49m\u001b[43m(\u001b[49m\u001b[43m)\u001b[49m\n\u001b[1;32m    757\u001b[0m \u001b[38;5;66;03m# Remove old textures from context\u001b[39;00m\n\u001b[1;32m    758\u001b[0m \u001b[38;5;28;01mfor\u001b[39;00m texture \u001b[38;5;129;01min\u001b[39;00m \u001b[38;5;28mself\u001b[39m\u001b[38;5;241m.\u001b[39m_mesh_textures \u001b[38;5;241m-\u001b[39m mesh_textures:\n",
      "File \u001b[0;32m/opt/conda/envs/gen3d/lib/python3.12/site-packages/pyrender/texture.py:184\u001b[0m, in \u001b[0;36mTexture._add_to_context\u001b[0;34m(self)\u001b[0m\n\u001b[1;32m    181\u001b[0m     fmt \u001b[38;5;241m=\u001b[39m GL_RGBA\n\u001b[1;32m    183\u001b[0m \u001b[38;5;66;03m# Generate the OpenGL texture\u001b[39;00m\n\u001b[0;32m--> 184\u001b[0m \u001b[38;5;28mself\u001b[39m\u001b[38;5;241m.\u001b[39m_texid \u001b[38;5;241m=\u001b[39m \u001b[43mglGenTextures\u001b[49m\u001b[43m(\u001b[49m\u001b[38;5;241;43m1\u001b[39;49m\u001b[43m)\u001b[49m\n\u001b[1;32m    185\u001b[0m glBindTexture(\u001b[38;5;28mself\u001b[39m\u001b[38;5;241m.\u001b[39mtex_type, \u001b[38;5;28mself\u001b[39m\u001b[38;5;241m.\u001b[39m_texid)\n\u001b[1;32m    187\u001b[0m \u001b[38;5;66;03m# Flip data for OpenGL buffer\u001b[39;00m\n",
      "File \u001b[0;32m/opt/conda/envs/gen3d/lib/python3.12/site-packages/OpenGL/latebind.py:61\u001b[0m, in \u001b[0;36mCurry.__call__\u001b[0;34m(self, *args, **named)\u001b[0m\n\u001b[1;32m     59\u001b[0m \u001b[38;5;28;01mdef\u001b[39;00m \u001b[38;5;21m__call__\u001b[39m( \u001b[38;5;28mself\u001b[39m, \u001b[38;5;241m*\u001b[39margs, \u001b[38;5;241m*\u001b[39m\u001b[38;5;241m*\u001b[39mnamed ):\n\u001b[1;32m     60\u001b[0m \u001b[38;5;250m    \u001b[39m\u001b[38;5;124;03m\"\"\"returns self.wrapperFunction( self.baseFunction, *args, **named )\"\"\"\u001b[39;00m\n\u001b[0;32m---> 61\u001b[0m     \u001b[38;5;28;01mreturn\u001b[39;00m \u001b[38;5;28;43mself\u001b[39;49m\u001b[38;5;241;43m.\u001b[39;49m\u001b[43mwrapperFunction\u001b[49m\u001b[43m(\u001b[49m\u001b[43m \u001b[49m\u001b[38;5;28;43mself\u001b[39;49m\u001b[38;5;241;43m.\u001b[39;49m\u001b[43mbaseFunction\u001b[49m\u001b[43m,\u001b[49m\u001b[43m \u001b[49m\u001b[38;5;241;43m*\u001b[39;49m\u001b[43margs\u001b[49m\u001b[43m,\u001b[49m\u001b[43m \u001b[49m\u001b[38;5;241;43m*\u001b[39;49m\u001b[38;5;241;43m*\u001b[39;49m\u001b[43mnamed\u001b[49m\u001b[43m \u001b[49m\u001b[43m)\u001b[49m\n",
      "File \u001b[0;32m/opt/conda/envs/gen3d/lib/python3.12/site-packages/OpenGL/GL/exceptional.py:178\u001b[0m, in \u001b[0;36mglGenTextures\u001b[0;34m(baseFunction, count, textures)\u001b[0m\n\u001b[1;32m    174\u001b[0m \u001b[38;5;28;01melif\u001b[39;00m count \u001b[38;5;241m==\u001b[39m \u001b[38;5;241m1\u001b[39m \u001b[38;5;129;01mand\u001b[39;00m _configflags\u001b[38;5;241m.\u001b[39mSIZE_1_ARRAY_UNPACK:\n\u001b[1;32m    175\u001b[0m     \u001b[38;5;66;03m# this traditionally returned a single int/long, so we'll continue to\u001b[39;00m\n\u001b[1;32m    176\u001b[0m     \u001b[38;5;66;03m# do so, even though it would be easier not to bother.\u001b[39;00m\n\u001b[1;32m    177\u001b[0m     textures \u001b[38;5;241m=\u001b[39m _types\u001b[38;5;241m.\u001b[39mGLuint( \u001b[38;5;241m0\u001b[39m )\n\u001b[0;32m--> 178\u001b[0m     \u001b[43mbaseFunction\u001b[49m\u001b[43m(\u001b[49m\u001b[43m \u001b[49m\u001b[43mcount\u001b[49m\u001b[43m,\u001b[49m\u001b[43m \u001b[49m\u001b[43mtextures\u001b[49m\u001b[43m)\u001b[49m\n\u001b[1;32m    179\u001b[0m     \u001b[38;5;28;01mreturn\u001b[39;00m textures\u001b[38;5;241m.\u001b[39mvalue\n\u001b[1;32m    180\u001b[0m \u001b[38;5;28;01melse\u001b[39;00m:\n",
      "File \u001b[0;32m/opt/conda/envs/gen3d/lib/python3.12/site-packages/OpenGL/latebind.py:45\u001b[0m, in \u001b[0;36mLateBind.__call__\u001b[0;34m(self, *args, **named)\u001b[0m\n\u001b[1;32m     43\u001b[0m \u001b[38;5;28;01mif\u001b[39;00m \u001b[38;5;28mself\u001b[39m\u001b[38;5;241m.\u001b[39m_finalCall \u001b[38;5;129;01mis\u001b[39;00m \u001b[38;5;28;01mNone\u001b[39;00m:\n\u001b[1;32m     44\u001b[0m     \u001b[38;5;28mself\u001b[39m\u001b[38;5;241m.\u001b[39m_finalCall \u001b[38;5;241m=\u001b[39m \u001b[38;5;28mself\u001b[39m\u001b[38;5;241m.\u001b[39mfinalise()\n\u001b[0;32m---> 45\u001b[0m \u001b[38;5;28;01mreturn\u001b[39;00m \u001b[38;5;28;43mself\u001b[39;49m\u001b[38;5;241;43m.\u001b[39;49m\u001b[43m_finalCall\u001b[49m\u001b[43m(\u001b[49m\u001b[43m \u001b[49m\u001b[38;5;241;43m*\u001b[39;49m\u001b[43margs\u001b[49m\u001b[43m,\u001b[49m\u001b[43m \u001b[49m\u001b[38;5;241;43m*\u001b[39;49m\u001b[38;5;241;43m*\u001b[39;49m\u001b[43mnamed\u001b[49m\u001b[43m \u001b[49m\u001b[43m)\u001b[49m\n",
      "File \u001b[0;32m/opt/conda/envs/gen3d/lib/python3.12/site-packages/OpenGL/wrapper.py:657\u001b[0m, in \u001b[0;36mWrapper.finaliseCall.<locals>.wrapperCall\u001b[0;34m(*args)\u001b[0m\n\u001b[1;32m    655\u001b[0m cArguments \u001b[38;5;241m=\u001b[39m cArgs\n\u001b[1;32m    656\u001b[0m \u001b[38;5;28;01mtry\u001b[39;00m:\n\u001b[0;32m--> 657\u001b[0m     result \u001b[38;5;241m=\u001b[39m \u001b[43mwrappedOperation\u001b[49m\u001b[43m(\u001b[49m\u001b[43m \u001b[49m\u001b[38;5;241;43m*\u001b[39;49m\u001b[43mcArguments\u001b[49m\u001b[43m \u001b[49m\u001b[43m)\u001b[49m\n\u001b[1;32m    658\u001b[0m \u001b[38;5;28;01mexcept\u001b[39;00m ctypes\u001b[38;5;241m.\u001b[39mArgumentError \u001b[38;5;28;01mas\u001b[39;00m err:\n\u001b[1;32m    659\u001b[0m     err\u001b[38;5;241m.\u001b[39margs \u001b[38;5;241m=\u001b[39m err\u001b[38;5;241m.\u001b[39margs \u001b[38;5;241m+\u001b[39m (cArguments,)\n",
      "File \u001b[0;32m/opt/conda/envs/gen3d/lib/python3.12/site-packages/OpenGL/platform/baseplatform.py:402\u001b[0m, in \u001b[0;36m_NullFunctionPointer.__call__\u001b[0;34m(self, *args, **named)\u001b[0m\n\u001b[1;32m    400\u001b[0m \u001b[38;5;28;01mdef\u001b[39;00m \u001b[38;5;21m__call__\u001b[39m( \u001b[38;5;28mself\u001b[39m, \u001b[38;5;241m*\u001b[39margs, \u001b[38;5;241m*\u001b[39m\u001b[38;5;241m*\u001b[39mnamed ):\n\u001b[1;32m    401\u001b[0m     \u001b[38;5;28;01mif\u001b[39;00m \u001b[38;5;28mself\u001b[39m\u001b[38;5;241m.\u001b[39mload():\n\u001b[0;32m--> 402\u001b[0m         \u001b[38;5;28;01mreturn\u001b[39;00m \u001b[38;5;28;43mself\u001b[39;49m\u001b[43m(\u001b[49m\u001b[43m \u001b[49m\u001b[38;5;241;43m*\u001b[39;49m\u001b[43margs\u001b[49m\u001b[43m,\u001b[49m\u001b[43m \u001b[49m\u001b[38;5;241;43m*\u001b[39;49m\u001b[38;5;241;43m*\u001b[39;49m\u001b[43mnamed\u001b[49m\u001b[43m \u001b[49m\u001b[43m)\u001b[49m\n\u001b[1;32m    403\u001b[0m     \u001b[38;5;28;01melse\u001b[39;00m:\n\u001b[1;32m    404\u001b[0m         \u001b[38;5;28;01mfrom\u001b[39;00m \u001b[38;5;21;01mOpenGL\u001b[39;00m \u001b[38;5;28;01mimport\u001b[39;00m error\n",
      "\u001b[0;31mArgumentError\u001b[0m: (\"argument 2: TypeError: No array-type handler for type _ctypes.type (value: <cparam 'P' (0x7df47548d120)>) registered\", (1, <cparam 'P' (0x7df47548d120)>))"
     ]
    }
   ],
   "source": [
    "image_size = (64,64)\n",
    "\n",
    "r = pyrender.OffscreenRenderer(image_size[1],image_size[0])\n",
    "color, target_depth = r.render(scene)\n",
    "target_depth[target_depth ==0] = np.nan\n",
    "\n",
    "plt.subplot(1,2,1)\n",
    "plt.imshow(color)\n",
    "plt.subplot(1,2,2)\n",
    "plt.imshow(target_depth)\n",
    "plt.tight_layout()"
   ]
  },
  {
   "cell_type": "markdown",
   "metadata": {},
   "source": [
    "# Setup Fuzzy Metaball renderer"
   ]
  },
  {
   "cell_type": "code",
   "execution_count": 1,
   "metadata": {},
   "outputs": [],
   "source": [
    "import os\n",
    "os.environ[\"XLA_PYTHON_CLIENT_PREALLOCATE\"] = \"false\"\n",
    "\n",
    "import jax\n",
    "#jax.config.update('jax_platform_name', 'cpu')\n",
    "\n",
    "import jax.numpy as jnp\n",
    "import fm_render\n",
    "\n",
    "# volume usually False since color optimization implies surface samples\n",
    "# And code defaults towards that sort of usage now\n",
    "show_volume = False\n",
    "\n",
    "NUM_MIXTURE = 40\n",
    "beta2 = 21.4\n",
    "beta3 = 2.66\n",
    "\n",
    "gmm_init_scale = 80\n",
    "\n",
    "render_jit = jax.jit(fm_render.render_func_quat)"
   ]
  },
  {
   "cell_type": "code",
   "execution_count": 2,
   "metadata": {},
   "outputs": [
    {
     "ename": "NameError",
     "evalue": "name 'mesh_tri' is not defined",
     "output_type": "error",
     "traceback": [
      "\u001b[0;31m---------------------------------------------------------------------------\u001b[0m",
      "\u001b[0;31mNameError\u001b[0m                                 Traceback (most recent call last)",
      "Cell \u001b[0;32mIn[2], line 6\u001b[0m\n\u001b[1;32m      4\u001b[0m     pts \u001b[38;5;241m=\u001b[39m trimesh\u001b[38;5;241m.\u001b[39msample\u001b[38;5;241m.\u001b[39mvolume_mesh(mesh_tri,\u001b[38;5;241m10000\u001b[39m)\n\u001b[1;32m      5\u001b[0m \u001b[38;5;28;01melse\u001b[39;00m:\n\u001b[0;32m----> 6\u001b[0m     pts \u001b[38;5;241m=\u001b[39m trimesh\u001b[38;5;241m.\u001b[39msample\u001b[38;5;241m.\u001b[39msample_surface_even(\u001b[43mmesh_tri\u001b[49m,\u001b[38;5;241m10000\u001b[39m)[\u001b[38;5;241m0\u001b[39m]\n\u001b[1;32m      7\u001b[0m gmm \u001b[38;5;241m=\u001b[39m sklearn\u001b[38;5;241m.\u001b[39mmixture\u001b[38;5;241m.\u001b[39mGaussianMixture(NUM_MIXTURE)\n\u001b[1;32m      8\u001b[0m gmm\u001b[38;5;241m.\u001b[39mfit(pts)\n",
      "\u001b[0;31mNameError\u001b[0m: name 'mesh_tri' is not defined"
     ]
    }
   ],
   "source": [
    "\n",
    "import trimesh\n",
    "import sklearn.mixture\n",
    "if show_volume:\n",
    "    pts = trimesh.sample.volume_mesh(mesh_tri,10000)\n",
    "else:\n",
    "    pts = trimesh.sample.sample_surface_even(mesh_tri,10000)[0]\n",
    "gmm = sklearn.mixture.GaussianMixture(NUM_MIXTURE)\n",
    "gmm.fit(pts)\n",
    "weights_log = np.log( gmm.weights_) + np.log(gmm_init_scale)\n",
    "mean = gmm.means_\n",
    "prec = gmm.precisions_cholesky_\n"
   ]
  },
  {
   "cell_type": "code",
   "execution_count": null,
   "metadata": {},
   "outputs": [],
   "source": [
    "\n",
    "height, width = image_size\n",
    "K = np.array([[focal_length, 0, cx],[0,focal_length,cy],[0,0,1]])\n",
    "pixel_list = (np.array(np.meshgrid(np.arange(width),height-np.arange(height)-1,[0]))[:,:,:,0]).reshape((3,-1)).T\n",
    "camera_rays = (pixel_list - K[:,2])/np.diag(K)\n",
    "camera_rays[:,-1] = -1\n",
    "\n",
    "trans_true = loc\n",
    "quat_true = rand_quat"
   ]
  },
  {
   "cell_type": "markdown",
   "metadata": {},
   "source": [
    "# Add noise to pose"
   ]
  },
  {
   "cell_type": "code",
   "execution_count": null,
   "metadata": {},
   "outputs": [],
   "source": [
    "while True:\n",
    "    t_err_cap = 0.5\n",
    "    rad_eps = (np.pi/180.0)*90 # range. so 90 is -45 to +45\n",
    "\n",
    "    t_err_vec = np.random.randn(3)\n",
    "    t_err_vec = t_err_vec/np.linalg.norm(t_err_vec)\n",
    "    t_err_mag = np.random.rand()\n",
    "\n",
    "    trans_offset = t_err_cap*t_err_mag*t_err_vec*t_model_scale\n",
    "    trans_shift = trans_true - trans_offset\n",
    "\n",
    "    angles = np.random.randn(3)\n",
    "    angles = angles/np.linalg.norm(angles)\n",
    "    angle_mag = (np.random.rand()-0.5)*rad_eps\n",
    "    R_I = transforms3d.quaternions.quat2mat(quat_true).T\n",
    "    R_R = transforms3d.axangles.axangle2mat(angles,angle_mag)\n",
    "    R_C =  R_R @ R_I\n",
    "\n",
    "    quat_init = transforms3d.quaternions.mat2quat(R_C.T)\n",
    "    trans_init = R_R@trans_shift\n",
    "\n",
    "    rand_rot = abs(angle_mag*(180.0/np.pi))\n",
    "    rand_trans = 100*(t_err_mag*t_err_cap)\n",
    "    init_pose_err = np.sqrt(rand_rot*rand_trans)\n",
    "    if rand_trans >30 and rand_rot >30:\n",
    "        print('pose error of {:.1f}, random rotation of {:.1f} degrees and translation of {:.1f}%'.format(init_pose_err,rand_rot,rand_trans))\n",
    "        break\n",
    "#axangl_init = axangl_true.copy()\n",
    "#trans_init = trans_true.copy()"
   ]
  },
  {
   "cell_type": "code",
   "execution_count": null,
   "metadata": {},
   "outputs": [],
   "source": [
    "def compute_normals(camera_rays, depth_py_px,image_size):\n",
    "    nan_depth = depth_py_px.ravel()\n",
    "    PY,PX=image_size\n",
    "    #nan_depth = jnp.nan_to_num(depth_py_px.ravel(),nan=1e-9)\n",
    "\n",
    "    dpt = jnp.array( camera_rays.reshape((-1,3)) * nan_depth[:,None] )\n",
    "    dpt = dpt.reshape((PY,PX,3))\n",
    "    ydiff = dpt - jnp.roll(dpt,1,0)\n",
    "    xdiff = dpt - jnp.roll(dpt,1,1)\n",
    "    ydiff = jnp.nan_to_num(ydiff,nan=1e-9) # new\n",
    "    xdiff = jnp.nan_to_num(xdiff,nan=1e-9) # new \n",
    "\n",
    "    ddiff = jnp.cross(xdiff.reshape((-1,3)),ydiff.reshape((-1,3)),)\n",
    "    nan_ddiff = jnp.nan_to_num(ddiff,nan=0)\n",
    "    norms = nan_ddiff/(1e-20+jnp.linalg.norm(nan_ddiff,axis=1,keepdims=True))\n",
    "\n",
    "    return norms\n"
   ]
  },
  {
   "cell_type": "markdown",
   "metadata": {},
   "source": [
    "# Solve for camera pose"
   ]
  },
  {
   "cell_type": "code",
   "execution_count": null,
   "metadata": {},
   "outputs": [],
   "source": [
    "def error_func(est_depth,est_alpha,true_depth):\n",
    "    cond = jnp.isnan(est_depth) | jnp.isnan(true_depth)\n",
    "    #err = (est_depth - true_depth)/jnp.nan_to_num(true_depth,nan=1)\n",
    "    err = (est_depth - true_depth)/jnp.nanmean(true_depth)\n",
    "\n",
    "    depth_loss =  abs(jnp.where(cond,0,err)).mean()\n",
    "\n",
    "    true_alpha = ~jnp.isnan(true_depth)\n",
    "    est_alpha = jnp.clip(est_alpha,1e-7,1-1e-7)\n",
    "    mask_loss = -((true_alpha * jnp.log(est_alpha)) + (~true_alpha)*jnp.log(1-est_alpha))\n",
    "\n",
    "    term1 = depth_loss.mean()\n",
    "    term2 = mask_loss.mean()\n",
    "    return 50*term1 + term2\n",
    "\n",
    "def objective(params,means,prec,weights_log,camera_rays,beta2,beta3,depth):\n",
    "    mrp,trans= params\n",
    "    render_res = render_jit(means,prec,weights_log,camera_rays,mrp,trans,beta2,beta3)\n",
    "    return error_func(render_res[0],render_res[1],depth)\n",
    "\n",
    "def objective_simple(params,means,prec,weights_log,camera_rays,beta2,beta3,depth):\n",
    "    mrp = jnp.array(params[:3])\n",
    "    trans = jnp.array(params[3:])\n",
    "    render_res = render_jit(means,prec,weights_log,camera_rays,mrp,trans,beta2,beta3)\n",
    "    return error_func(render_res[0],render_res[1],depth)\n",
    "grad_render3 = jax.jit(jax.value_and_grad(objective))"
   ]
  },
  {
   "cell_type": "code",
   "execution_count": null,
   "metadata": {},
   "outputs": [],
   "source": [
    "from jax.example_libraries import optimizers\n",
    "from util import DegradeLR\n",
    "# Number of optimization steps\n",
    "# typically only needs a few hundred\n",
    "# and early exits\n",
    "Niter = 2000\n",
    "\n",
    "loop = tqdm(range(Niter))\n",
    "\n",
    "# babysit learning rates\n",
    "adjust_lr = DegradeLR(3e-4,0.1,50,10,-1e-4)\n",
    "opt_init, opt_update, opt_params = optimizers.momentum(adjust_lr.step_func,0.95)\n",
    "\n",
    "# to test scale invariance\n",
    "HUHSCALE = 1\n",
    "# should get same result even if world scale changes\n",
    "\n",
    "tmp = [quat_init,HUHSCALE*trans_init]\n",
    "opt_state = opt_init(tmp)\n",
    "\n",
    "losses = []\n",
    "jax_tdepth = jnp.array(target_depth.ravel())\n",
    "\n",
    "for i in loop:\n",
    "    p = opt_params(opt_state)\n",
    "\n",
    "    val,g = grad_render3(p,HUHSCALE*mean,prec/HUHSCALE,weights_log,camera_rays,beta2/(HUHSCALE*shape_scale),beta3,HUHSCALE*jax_tdepth)\n",
    "    \n",
    "    S = jnp.linalg.norm(p[1])\n",
    "    S2 = S*S\n",
    "\n",
    "    g1 = g[0]\n",
    "    g2 = g[1]*S2\n",
    "\n",
    "    opt_state = opt_update(i, [g1,g2], opt_state)\n",
    "\n",
    "    val = float(val)\n",
    "    losses.append(val)\n",
    "    if adjust_lr.add(val):\n",
    "        break\n",
    "    # Print the losses\n",
    "    loop.set_description(\"total_loss = %.3f\" % val)"
   ]
  },
  {
   "cell_type": "code",
   "execution_count": null,
   "metadata": {},
   "outputs": [],
   "source": [
    "mrp_final, trans_final = opt_params(opt_state)\n",
    "trans_final = trans_final/HUHSCALE"
   ]
  },
  {
   "cell_type": "code",
   "execution_count": null,
   "metadata": {},
   "outputs": [],
   "source": [
    "# 2nd order is also possible\n",
    "if False:\n",
    "    from jax.scipy.optimize import minimize\n",
    "    res = minimize(objective_simple,jnp.hstack([mrp_init,trans_init]),method='BFGS',args=(mean,prec,weight_log,camera_rays,beta2,beta3,beta4,beta5,jax_tdepth,))\n",
    "    mrp_final = res.x[:3]\n",
    "    trans_final = res.x[3:]"
   ]
  },
  {
   "cell_type": "code",
   "execution_count": null,
   "metadata": {},
   "outputs": [],
   "source": [
    "plt.title('convergence plot')\n",
    "plt.plot(losses,marker='.',lw=0,ms=5,alpha=0.5)\n",
    "plt.xlabel('iteration')\n",
    "plt.ylabel('log loss')"
   ]
  },
  {
   "cell_type": "code",
   "execution_count": null,
   "metadata": {},
   "outputs": [],
   "source": [
    "quat_final, trans_final = opt_params(opt_state)\n",
    "trans_final = trans_final/HUHSCALE"
   ]
  },
  {
   "cell_type": "markdown",
   "metadata": {},
   "source": [
    "# Visualize Results"
   ]
  },
  {
   "cell_type": "code",
   "execution_count": null,
   "metadata": {},
   "outputs": [],
   "source": [
    "vmin,vmax = np.nanmin(target_depth),np.nanmax(target_depth)"
   ]
  },
  {
   "cell_type": "code",
   "execution_count": null,
   "metadata": {},
   "outputs": [],
   "source": [
    "plt.subplot(2,3,1)\n",
    "plt.imshow(color)\n",
    "plt.title('image')\n",
    "plt.axis('off')\n",
    "plt.subplot(2,3,4)\n",
    "est_depth_true, est_alpha_true, _, _ = render_jit(mean,prec,weights_log,camera_rays,quat_true,trans_true,beta2/shape_scale,beta3)\n",
    "est_depth_true = np.array(est_depth_true)\n",
    "est_depth_true[est_alpha_true < 0.5] = np.nan\n",
    "plt.imshow(est_depth_true.reshape(image_size),vmin=vmin,vmax=vmax)\n",
    "plt.title('true pose')\n",
    "plt.axis('off')\n",
    "est_depth_init, est_alpha, _, _ = render_jit(mean,prec,weights_log,camera_rays,quat_init,trans_init,beta2/shape_scale,beta3)\n",
    "est_depth_init = np.array(est_depth_init)\n",
    "est_depth_init[est_alpha < 0.5] = np.nan\n",
    "plt.subplot(2,3,2)\n",
    "plt.imshow(est_alpha.reshape(image_size),cmap='Greys')\n",
    "plt.title('init FM alpha')\n",
    "plt.axis('off')\n",
    "plt.subplot(2,3,5)\n",
    "plt.imshow(est_depth_init.reshape(image_size),vmin=vmin,vmax=vmax)\n",
    "plt.title('init FM depth')\n",
    "plt.axis('off')\n",
    "est_depth,  est_alpha, _, _ = render_jit(mean,prec,weights_log,camera_rays,quat_final,trans_final,beta2/shape_scale,beta3)\n",
    "est_depth = np.array(est_depth)\n",
    "est_depth[est_alpha < 0.5] = np.nan\n",
    "plt.subplot(2,3,3)\n",
    "plt.imshow(est_alpha.reshape(image_size),cmap='Greys')\n",
    "plt.title('final FM alpha')\n",
    "plt.axis('off')\n",
    "plt.subplot(2,3,6)\n",
    "plt.imshow(est_depth.reshape(image_size),vmin=vmin,vmax=vmax)\n",
    "plt.title('final FM depth')\n",
    "plt.axis('off')\n",
    "plt.tight_layout()"
   ]
  },
  {
   "cell_type": "code",
   "execution_count": null,
   "metadata": {},
   "outputs": [],
   "source": [
    "q1 = quat_true/np.linalg.norm(quat_true)\n",
    "q2 = quat_final/np.linalg.norm(quat_final)\n",
    "e1 = np.arccos(np.clip((q1 * q2).sum(),-1,1))\n",
    "e2 = np.arccos(np.clip((-q1 * q2).sum(),-1,1))\n",
    "rot_err = float((180.0/np.pi)*2*min(e1,e2))\n",
    "\n",
    "R1 = np.array(transforms3d.quaternions.quat2mat(q1))\n",
    "R2 = np.array(transforms3d.quaternions.quat2mat(q2))\n",
    "t_norm = np.linalg.norm(R1.T@np.array(trans_true)-R2.T@np.array(trans_final))\n",
    "trans_err = 100*t_norm/t_model_scale\n",
    "\n",
    "pose_err = np.sqrt(rot_err*trans_err)\n",
    "print('init. pose error of {:04.1f} with rot. of {:04.1f} deg and trans. of {:04.1f}%'.format(init_pose_err,rand_rot,rand_trans))\n",
    "print('final pose error of {:04.1f} with rot. of {:04.1f} deg and trans. of {:04.1f}%'.format(pose_err,rot_err,trans_err))"
   ]
  }
 ],
 "metadata": {
  "kernelspec": {
   "display_name": "gen3d",
   "language": "python",
   "name": "python3"
  },
  "language_info": {
   "codemirror_mode": {
    "name": "ipython",
    "version": 3
   },
   "file_extension": ".py",
   "mimetype": "text/x-python",
   "name": "python",
   "nbconvert_exporter": "python",
   "pygments_lexer": "ipython3",
   "version": "3.12.7"
  }
 },
 "nbformat": 4,
 "nbformat_minor": 1
}
